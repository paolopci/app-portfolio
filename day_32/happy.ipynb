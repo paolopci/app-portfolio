{
 "cells": [
  {
   "cell_type": "markdown",
   "id": "910355e1-77a1-439b-87f3-1040e92aee12",
   "metadata": {},
   "source": [
    "# Load the dataframe"
   ]
  },
  {
   "cell_type": "code",
   "execution_count": 2,
   "id": "f3bdc1c0-d1b9-48ac-97c5-aa0bf452cf34",
   "metadata": {},
   "outputs": [],
   "source": [
    "import pandas as pd"
   ]
  },
  {
   "cell_type": "code",
   "execution_count": 3,
   "id": "c6286fda-2e44-4e91-a62f-f1f411422e00",
   "metadata": {},
   "outputs": [],
   "source": [
    "df=pd.read_csv(\"happy.csv\")"
   ]
  },
  {
   "cell_type": "code",
   "execution_count": 4,
   "id": "2d5dccd7-9ce4-4616-8950-48d231347a19",
   "metadata": {},
   "outputs": [
    {
     "data": {
      "text/html": [
       "<div>\n",
       "<style scoped>\n",
       "    .dataframe tbody tr th:only-of-type {\n",
       "        vertical-align: middle;\n",
       "    }\n",
       "\n",
       "    .dataframe tbody tr th {\n",
       "        vertical-align: top;\n",
       "    }\n",
       "\n",
       "    .dataframe thead th {\n",
       "        text-align: right;\n",
       "    }\n",
       "</style>\n",
       "<table border=\"1\" class=\"dataframe\">\n",
       "  <thead>\n",
       "    <tr style=\"text-align: right;\">\n",
       "      <th></th>\n",
       "      <th>country</th>\n",
       "      <th>happiness</th>\n",
       "      <th>gdp</th>\n",
       "      <th>social_support</th>\n",
       "      <th>life_expectancy</th>\n",
       "      <th>freedom_to_make_life_choices</th>\n",
       "      <th>generosity</th>\n",
       "      <th>corruption</th>\n",
       "    </tr>\n",
       "  </thead>\n",
       "  <tbody>\n",
       "    <tr>\n",
       "      <th>0</th>\n",
       "      <td>Niger</td>\n",
       "      <td>5003</td>\n",
       "      <td>570</td>\n",
       "      <td>560</td>\n",
       "      <td>326</td>\n",
       "      <td>571</td>\n",
       "      <td>165</td>\n",
       "      <td>145</td>\n",
       "    </tr>\n",
       "    <tr>\n",
       "      <th>1</th>\n",
       "      <td>Mozambique</td>\n",
       "      <td>5048</td>\n",
       "      <td>578</td>\n",
       "      <td>660</td>\n",
       "      <td>191</td>\n",
       "      <td>593</td>\n",
       "      <td>185</td>\n",
       "      <td>200</td>\n",
       "    </tr>\n",
       "    <tr>\n",
       "      <th>2</th>\n",
       "      <td>Liberia</td>\n",
       "      <td>5122</td>\n",
       "      <td>636</td>\n",
       "      <td>670</td>\n",
       "      <td>309</td>\n",
       "      <td>405</td>\n",
       "      <td>178</td>\n",
       "      <td>80</td>\n",
       "    </tr>\n",
       "    <tr>\n",
       "      <th>3</th>\n",
       "      <td>Malawi</td>\n",
       "      <td>3750</td>\n",
       "      <td>648</td>\n",
       "      <td>279</td>\n",
       "      <td>388</td>\n",
       "      <td>477</td>\n",
       "      <td>140</td>\n",
       "      <td>157</td>\n",
       "    </tr>\n",
       "    <tr>\n",
       "      <th>4</th>\n",
       "      <td>Chad</td>\n",
       "      <td>4251</td>\n",
       "      <td>662</td>\n",
       "      <td>506</td>\n",
       "      <td>225</td>\n",
       "      <td>180</td>\n",
       "      <td>182</td>\n",
       "      <td>77</td>\n",
       "    </tr>\n",
       "    <tr>\n",
       "      <th>...</th>\n",
       "      <td>...</td>\n",
       "      <td>...</td>\n",
       "      <td>...</td>\n",
       "      <td>...</td>\n",
       "      <td>...</td>\n",
       "      <td>...</td>\n",
       "      <td>...</td>\n",
       "      <td>...</td>\n",
       "    </tr>\n",
       "    <tr>\n",
       "      <th>140</th>\n",
       "      <td>United Arab Emirates</td>\n",
       "      <td>6576</td>\n",
       "      <td>1998</td>\n",
       "      <td>980</td>\n",
       "      <td>633</td>\n",
       "      <td>702</td>\n",
       "      <td>204</td>\n",
       "      <td>250</td>\n",
       "    </tr>\n",
       "    <tr>\n",
       "      <th>141</th>\n",
       "      <td>Switzerland</td>\n",
       "      <td>7512</td>\n",
       "      <td>2026</td>\n",
       "      <td>1226</td>\n",
       "      <td>822</td>\n",
       "      <td>677</td>\n",
       "      <td>147</td>\n",
       "      <td>461</td>\n",
       "    </tr>\n",
       "    <tr>\n",
       "      <th>142</th>\n",
       "      <td>Ireland</td>\n",
       "      <td>7041</td>\n",
       "      <td>2129</td>\n",
       "      <td>1166</td>\n",
       "      <td>779</td>\n",
       "      <td>627</td>\n",
       "      <td>190</td>\n",
       "      <td>408</td>\n",
       "    </tr>\n",
       "    <tr>\n",
       "      <th>143</th>\n",
       "      <td>Singapore</td>\n",
       "      <td>6480</td>\n",
       "      <td>2149</td>\n",
       "      <td>1127</td>\n",
       "      <td>851</td>\n",
       "      <td>672</td>\n",
       "      <td>163</td>\n",
       "      <td>587</td>\n",
       "    </tr>\n",
       "    <tr>\n",
       "      <th>144</th>\n",
       "      <td>Luxembourg</td>\n",
       "      <td>7404</td>\n",
       "      <td>2209</td>\n",
       "      <td>1155</td>\n",
       "      <td>790</td>\n",
       "      <td>700</td>\n",
       "      <td>120</td>\n",
       "      <td>388</td>\n",
       "    </tr>\n",
       "  </tbody>\n",
       "</table>\n",
       "<p>145 rows × 8 columns</p>\n",
       "</div>"
      ],
      "text/plain": [
       "                  country  happiness   gdp  social_support  life_expectancy  \\\n",
       "0                   Niger       5003   570             560              326   \n",
       "1              Mozambique       5048   578             660              191   \n",
       "2                 Liberia       5122   636             670              309   \n",
       "3                  Malawi       3750   648             279              388   \n",
       "4                    Chad       4251   662             506              225   \n",
       "..                    ...        ...   ...             ...              ...   \n",
       "140  United Arab Emirates       6576  1998             980              633   \n",
       "141           Switzerland       7512  2026            1226              822   \n",
       "142               Ireland       7041  2129            1166              779   \n",
       "143             Singapore       6480  2149            1127              851   \n",
       "144            Luxembourg       7404  2209            1155              790   \n",
       "\n",
       "     freedom_to_make_life_choices  generosity  corruption  \n",
       "0                             571         165         145  \n",
       "1                             593         185         200  \n",
       "2                             405         178          80  \n",
       "3                             477         140         157  \n",
       "4                             180         182          77  \n",
       "..                            ...         ...         ...  \n",
       "140                           702         204         250  \n",
       "141                           677         147         461  \n",
       "142                           627         190         408  \n",
       "143                           672         163         587  \n",
       "144                           700         120         388  \n",
       "\n",
       "[145 rows x 8 columns]"
      ]
     },
     "execution_count": 4,
     "metadata": {},
     "output_type": "execute_result"
    }
   ],
   "source": [
    "df"
   ]
  },
  {
   "cell_type": "code",
   "execution_count": 5,
   "id": "3e182262-48ca-4b88-bc8a-7bae8d5ad412",
   "metadata": {},
   "outputs": [
    {
     "data": {
      "text/plain": [
       "Index(['country', 'happiness', 'gdp', 'social_support', 'life_expectancy',\n",
       "       'freedom_to_make_life_choices', 'generosity', 'corruption'],\n",
       "      dtype='object')"
      ]
     },
     "execution_count": 5,
     "metadata": {},
     "output_type": "execute_result"
    }
   ],
   "source": [
    "df.columns"
   ]
  },
  {
   "cell_type": "markdown",
   "id": "fd7dc92b-1e19-4da2-a212-e57c4fe51836",
   "metadata": {},
   "source": [
    "# Mostro le colonne che mi servono"
   ]
  },
  {
   "cell_type": "code",
   "execution_count": 7,
   "id": "41849b82-65ff-4113-a231-a78a0665f33c",
   "metadata": {},
   "outputs": [
    {
     "data": {
      "text/html": [
       "<div>\n",
       "<style scoped>\n",
       "    .dataframe tbody tr th:only-of-type {\n",
       "        vertical-align: middle;\n",
       "    }\n",
       "\n",
       "    .dataframe tbody tr th {\n",
       "        vertical-align: top;\n",
       "    }\n",
       "\n",
       "    .dataframe thead th {\n",
       "        text-align: right;\n",
       "    }\n",
       "</style>\n",
       "<table border=\"1\" class=\"dataframe\">\n",
       "  <thead>\n",
       "    <tr style=\"text-align: right;\">\n",
       "      <th></th>\n",
       "      <th>happiness</th>\n",
       "      <th>gdp</th>\n",
       "      <th>generosity</th>\n",
       "    </tr>\n",
       "  </thead>\n",
       "  <tbody>\n",
       "    <tr>\n",
       "      <th>0</th>\n",
       "      <td>5003</td>\n",
       "      <td>570</td>\n",
       "      <td>165</td>\n",
       "    </tr>\n",
       "    <tr>\n",
       "      <th>1</th>\n",
       "      <td>5048</td>\n",
       "      <td>578</td>\n",
       "      <td>185</td>\n",
       "    </tr>\n",
       "    <tr>\n",
       "      <th>2</th>\n",
       "      <td>5122</td>\n",
       "      <td>636</td>\n",
       "      <td>178</td>\n",
       "    </tr>\n",
       "    <tr>\n",
       "      <th>3</th>\n",
       "      <td>3750</td>\n",
       "      <td>648</td>\n",
       "      <td>140</td>\n",
       "    </tr>\n",
       "    <tr>\n",
       "      <th>4</th>\n",
       "      <td>4251</td>\n",
       "      <td>662</td>\n",
       "      <td>182</td>\n",
       "    </tr>\n",
       "    <tr>\n",
       "      <th>...</th>\n",
       "      <td>...</td>\n",
       "      <td>...</td>\n",
       "      <td>...</td>\n",
       "    </tr>\n",
       "    <tr>\n",
       "      <th>140</th>\n",
       "      <td>6576</td>\n",
       "      <td>1998</td>\n",
       "      <td>204</td>\n",
       "    </tr>\n",
       "    <tr>\n",
       "      <th>141</th>\n",
       "      <td>7512</td>\n",
       "      <td>2026</td>\n",
       "      <td>147</td>\n",
       "    </tr>\n",
       "    <tr>\n",
       "      <th>142</th>\n",
       "      <td>7041</td>\n",
       "      <td>2129</td>\n",
       "      <td>190</td>\n",
       "    </tr>\n",
       "    <tr>\n",
       "      <th>143</th>\n",
       "      <td>6480</td>\n",
       "      <td>2149</td>\n",
       "      <td>163</td>\n",
       "    </tr>\n",
       "    <tr>\n",
       "      <th>144</th>\n",
       "      <td>7404</td>\n",
       "      <td>2209</td>\n",
       "      <td>120</td>\n",
       "    </tr>\n",
       "  </tbody>\n",
       "</table>\n",
       "<p>145 rows × 3 columns</p>\n",
       "</div>"
      ],
      "text/plain": [
       "     happiness   gdp  generosity\n",
       "0         5003   570         165\n",
       "1         5048   578         185\n",
       "2         5122   636         178\n",
       "3         3750   648         140\n",
       "4         4251   662         182\n",
       "..         ...   ...         ...\n",
       "140       6576  1998         204\n",
       "141       7512  2026         147\n",
       "142       7041  2129         190\n",
       "143       6480  2149         163\n",
       "144       7404  2209         120\n",
       "\n",
       "[145 rows x 3 columns]"
      ]
     },
     "execution_count": 7,
     "metadata": {},
     "output_type": "execute_result"
    }
   ],
   "source": [
    "df[['happiness','gdp','generosity']]"
   ]
  },
  {
   "cell_type": "markdown",
   "id": "0add4f34-3733-4439-be08-3fd15b803a8f",
   "metadata": {},
   "source": [
    "# Prendo tutte le letture "
   ]
  },
  {
   "cell_type": "code",
   "execution_count": 8,
   "id": "63ac02cc-b1ae-4103-8eb9-0d1911fa9784",
   "metadata": {},
   "outputs": [],
   "source": [
    "happy=df['happiness']"
   ]
  },
  {
   "cell_type": "code",
   "execution_count": 9,
   "id": "d07c88cf-8eaf-44d9-b03a-6afb119f0433",
   "metadata": {},
   "outputs": [
    {
     "data": {
      "text/plain": [
       "0      5003\n",
       "1      5048\n",
       "2      5122\n",
       "3      3750\n",
       "4      4251\n",
       "       ... \n",
       "140    6576\n",
       "141    7512\n",
       "142    7041\n",
       "143    6480\n",
       "144    7404\n",
       "Name: happiness, Length: 145, dtype: int64"
      ]
     },
     "execution_count": 9,
     "metadata": {},
     "output_type": "execute_result"
    }
   ],
   "source": [
    "happy"
   ]
  },
  {
   "cell_type": "code",
   "execution_count": 13,
   "id": "12bdf5e6-7a5f-4c6a-a62c-202bff4d8cce",
   "metadata": {},
   "outputs": [],
   "source": [
    "gdp=df['gdp']"
   ]
  },
  {
   "cell_type": "code",
   "execution_count": 14,
   "id": "f6789ef7-5380-4e25-a234-4ac46dc6bc1d",
   "metadata": {},
   "outputs": [
    {
     "data": {
      "text/plain": [
       "0       570\n",
       "1       578\n",
       "2       636\n",
       "3       648\n",
       "4       662\n",
       "       ... \n",
       "140    1998\n",
       "141    2026\n",
       "142    2129\n",
       "143    2149\n",
       "144    2209\n",
       "Name: gdp, Length: 145, dtype: int64"
      ]
     },
     "execution_count": 14,
     "metadata": {},
     "output_type": "execute_result"
    }
   ],
   "source": [
    "gdp"
   ]
  },
  {
   "cell_type": "code",
   "execution_count": 15,
   "id": "ad7e04d9-f697-4d0e-b8cb-8d6cc8a8ba91",
   "metadata": {},
   "outputs": [],
   "source": [
    "generosity=df['generosity']"
   ]
  },
  {
   "cell_type": "code",
   "execution_count": 16,
   "id": "589cfa56-fabc-4592-b68b-94faf1c2354b",
   "metadata": {},
   "outputs": [
    {
     "data": {
      "text/plain": [
       "0      165\n",
       "1      185\n",
       "2      178\n",
       "3      140\n",
       "4      182\n",
       "      ... \n",
       "140    204\n",
       "141    147\n",
       "142    190\n",
       "143    163\n",
       "144    120\n",
       "Name: generosity, Length: 145, dtype: int64"
      ]
     },
     "execution_count": 16,
     "metadata": {},
     "output_type": "execute_result"
    }
   ],
   "source": [
    "generosity"
   ]
  }
 ],
 "metadata": {
  "kernelspec": {
   "display_name": "Python 3 (ipykernel)",
   "language": "python",
   "name": "python3"
  },
  "language_info": {
   "codemirror_mode": {
    "name": "ipython",
    "version": 3
   },
   "file_extension": ".py",
   "mimetype": "text/x-python",
   "name": "python",
   "nbconvert_exporter": "python",
   "pygments_lexer": "ipython3",
   "version": "3.13.3"
  }
 },
 "nbformat": 4,
 "nbformat_minor": 5
}
